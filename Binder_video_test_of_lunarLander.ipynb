{
 "cells": [
  {
   "cell_type": "code",
   "execution_count": 1,
   "id": "critical-holder",
   "metadata": {},
   "outputs": [],
   "source": [
    "import pyvirtualdisplay\n",
    "\n",
    "\n",
    "_display = pyvirtualdisplay.Display(visible=False,  # use False with Xvfb\n",
    "                                    size=(1400, 900))\n",
    "_ = _display.start()"
   ]
  },
  {
   "cell_type": "code",
   "execution_count": 2,
   "id": "signed-clothing",
   "metadata": {},
   "outputs": [
    {
     "name": "stdout",
     "output_type": "stream",
     "text": [
      ":1001\r\n"
     ]
    }
   ],
   "source": [
    "!echo $DISPLAY"
   ]
  },
  {
   "cell_type": "code",
   "execution_count": 3,
   "id": "necessary-smell",
   "metadata": {},
   "outputs": [
    {
     "data": {
      "image/png": "[encoded data removed]",
      "text/plain": [
       "<Figure size 432x288 with 1 Axes>"
      ]
     },
     "metadata": {
      "needs_background": "light"
     },
     "output_type": "display_data"
    }
   ],
   "source": [
    "import typing\n",
    "\n",
    "import gym\n",
    "import matplotlib.pyplot as plt\n",
    "import numpy as np\n",
    "from IPython import display\n",
    "\n",
    "\n",
    "# represent states as arrays and actions as ints\n",
    "State = np.ndarray\n",
    "Action = int\n",
    "\n",
    "# agent is just a function! \n",
    "Agent = typing.Callable[[State], Action]\n",
    "\n",
    "\n",
    "def uniform_random_policy(state: State,\n",
    "                          number_actions: int,\n",
    "                          random_state: np.random.RandomState) -> Action:\n",
    "    \"\"\"Select an action at random from the set of feasible actions.\"\"\"\n",
    "    feasible_actions = np.arange(number_actions)\n",
    "    probs = np.ones(number_actions) / number_actions\n",
    "    action = random_state.choice(feasible_actions, p=probs)\n",
    "    return action\n",
    "\n",
    "\n",
    "def make_random_agent(number_actions: int,\n",
    "                      random_state: np.random.RandomState = None) -> Agent:\n",
    "    \"\"\"Factory for creating an Agent.\"\"\"\n",
    "    _random_state = np.random.RandomState() if random_state is None else random_state\n",
    "    return lambda state: uniform_random_policy(state, number_actions, _random_state)\n",
    "\n",
    "\n",
    "def simulate(agent: Agent, env: gym.Env, ax: plt.Axes) -> None:\n",
    "    state = env.reset()\n",
    "    img = ax.imshow(env.render(mode='rgb_array'))\n",
    "    done = False\n",
    "    while not done:\n",
    "        action = agent(state)\n",
    "        img.set_data(env.render(mode='rgb_array')) \n",
    "        ax.axis('off')\n",
    "        display.display(plt.gcf())\n",
    "        display.clear_output(wait=True)\n",
    "        state, reward, done, _ = env.step(action)       \n",
    "    env.close()\n",
    "    \n",
    "# create the Gym environment\n",
    "lunar_lander_v2 = gym.make('LunarLander-v2')\n",
    "_ = lunar_lander_v2.seed(42)\n",
    "\n",
    "# create an agent\n",
    "random_agent = make_random_agent(lunar_lander_v2.action_space.n, random_state=None)\n",
    "\n",
    "# simulate agent interacting with the environment\n",
    "_, ax = plt.subplots(1, 1)\n",
    "simulate(random_agent, lunar_lander_v2, ax)"
   ]
  },
  {
   "cell_type": "code",
   "execution_count": null,
   "id": "normal-order",
   "metadata": {},
   "outputs": [],
   "source": []
  }
 ],
 "metadata": {
  "kernelspec": {
   "display_name": "Python 3",
   "language": "python",
   "name": "python3"
  },
  "language_info": {
   "codemirror_mode": {
    "name": "ipython",
    "version": 3
   },
   "file_extension": ".py",
   "mimetype": "text/x-python",
   "name": "python",
   "nbconvert_exporter": "python",
   "pygments_lexer": "ipython3",
   "version": "3.7.9"
  }
 },
 "nbformat": 4,
 "nbformat_minor": 5
}
